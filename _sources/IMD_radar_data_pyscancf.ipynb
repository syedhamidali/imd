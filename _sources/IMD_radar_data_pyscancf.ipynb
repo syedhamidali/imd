{
 "cells": [
  {
   "cell_type": "markdown",
   "id": "126c305a",
   "metadata": {},
   "source": [
    "## How to handle IMD radar data efficiently?"
   ]
  },
  {
   "cell_type": "markdown",
   "id": "a609a613",
   "metadata": {},
   "source": [
    "    1. Make sure you have anaconda or miniconda installed or install it using any link given below;\n",
    "    https://docs.conda.io/en/latest/miniconda.html\n",
    "    https://www.anaconda.com/products/individual\n",
    "    \n",
    "    2. Install the required libraries/packages listed below;\n",
    "    required: notebook, pyart, xarray, dask, pyscancf, git\n",
    "    optional: wradlib\n",
    "    \n",
    "    How to install these packages?\n",
    "    1. Open conda command propmt or terminal after installing anaconda/miniconda\n",
    "    2. type the following command\n",
    "        conda install -c conda-forge xarray arm_pyart dask git notebook wradlib \n",
    "    For pyscancf, please use: \n",
    "        pip install git+https://github.com/syedhamidali/PyScanCf.git \n",
    "    Please cite if you use pyscancf \n",
    "    H.A. Syed, I. Sayyed, M.C.R. Kalapureddy, & K.K. Grandhi. (2021). \n",
    "    PyScanCf – The library for single sweep datasets of IMD weather radars.\n",
    "    Zenodo. https://doi.org/10.5281/zenodo.5574160"
   ]
  },
  {
   "cell_type": "markdown",
   "id": "954a57e9",
   "metadata": {},
   "source": [
    "### Let's import these installed libraries,"
   ]
  },
  {
   "cell_type": "code",
   "execution_count": 104,
   "id": "527e7d41",
   "metadata": {},
   "outputs": [],
   "source": [
    "import xarray as xr\n",
    "import numpy as np"
   ]
  },
  {
   "cell_type": "code",
   "execution_count": 216,
   "id": "0435ef31",
   "metadata": {},
   "outputs": [],
   "source": [
    "import glob #used to load the data using glob into this notebook"
   ]
  },
  {
   "cell_type": "code",
   "execution_count": 23,
   "id": "0f592c62",
   "metadata": {},
   "outputs": [],
   "source": [
    "files = sorted(glob.glob(\"../MUM200829IMD/*\"))"
   ]
  },
  {
   "cell_type": "markdown",
   "id": "46e55a76",
   "metadata": {},
   "source": [
    "#### We are interested in 250 km range radar scans i.e short range ppi, so we will select the files having 500 km range and move them into another directory"
   ]
  },
  {
   "cell_type": "markdown",
   "id": "e982c471",
   "metadata": {},
   "source": [
    "So first I created an empty list \"file500\" in which I appended the file names of 500 km range scans"
   ]
  },
  {
   "cell_type": "code",
   "execution_count": 30,
   "id": "5f715883",
   "metadata": {
    "scrolled": true
   },
   "outputs": [
    {
     "name": "stdout",
     "output_type": "stream",
     "text": [
      "../MUM200829IMD/MUM200829003956-IMD.nc  :  358 1633 499.65417\n",
      "../MUM200829IMD/MUM200829003956-IMD.nc.1  :  357 1633 499.65417\n",
      "../MUM200829IMD/MUM200829004956-IMD.nc  :  356 1633 499.65417\n",
      "../MUM200829IMD/MUM200829004956-IMD.nc.1  :  360 1633 499.65417\n",
      "../MUM200829IMD/MUM200829005956-IMD.nc  :  357 1633 499.65417\n",
      "../MUM200829IMD/MUM200829005956-IMD.nc.1  :  355 1633 499.65417\n",
      "../MUM200829IMD/MUM200829010956-IMD.nc  :  360 1633 499.65417\n",
      "../MUM200829IMD/MUM200829010956-IMD.nc.1  :  355 1633 499.65417\n",
      "../MUM200829IMD/MUM200829013955-IMD.nc  :  357 1633 499.65417\n",
      "../MUM200829IMD/MUM200829013955-IMD.nc.1  :  358 1633 499.65417\n",
      "../MUM200829IMD/MUM200829014956-IMD.nc  :  359 1633 499.65417\n",
      "../MUM200829IMD/MUM200829014956-IMD.nc.1  :  360 1633 499.65417\n",
      "../MUM200829IMD/MUM200829015957-IMD.nc  :  357 1633 499.65417\n",
      "../MUM200829IMD/MUM200829015957-IMD.nc.1  :  359 1633 499.65417\n",
      "../MUM200829IMD/MUM200829025959-IMD.nc  :  359 1633 499.65417\n",
      "../MUM200829IMD/MUM200829025959-IMD.nc.1  :  357 1633 499.65417\n",
      "../MUM200829IMD/MUM200829032959-IMD.nc  :  359 1633 499.65417\n",
      "../MUM200829IMD/MUM200829032959-IMD.nc.1  :  357 1633 499.65417\n",
      "../MUM200829IMD/MUM200829034959-IMD.nc  :  358 1633 499.65417\n",
      "../MUM200829IMD/MUM200829034959-IMD.nc.1  :  358 1633 499.65417\n",
      "../MUM200829IMD/MUM200829043959-IMD.nc  :  358 1633 499.65417\n",
      "../MUM200829IMD/MUM200829043959-IMD.nc.1  :  357 1633 499.65417\n",
      "../MUM200829IMD/MUM200829070957-IMD.nc  :  355 1633 499.65417\n",
      "../MUM200829IMD/MUM200829070957-IMD.nc.1  :  357 1633 499.65417\n",
      "../MUM200829IMD/MUM200829074954-IMD.nc  :  358 1633 499.65417\n",
      "../MUM200829IMD/MUM200829074954-IMD.nc.1  :  357 1633 499.65417\n",
      "../MUM200829IMD/MUM200829075957-IMD.nc  :  357 1633 499.65417\n",
      "../MUM200829IMD/MUM200829075957-IMD.nc.1  :  358 1633 499.65417\n",
      "../MUM200829IMD/MUM200829092957-IMD.nc  :  359 1633 499.65417\n",
      "../MUM200829IMD/MUM200829092957-IMD.nc.1  :  358 1633 499.65417\n",
      "../MUM200829IMD/MUM200829101957-IMD.nc  :  357 1633 499.65417\n",
      "../MUM200829IMD/MUM200829101957-IMD.nc.1  :  356 1633 499.65417\n",
      "../MUM200829IMD/MUM200829115427-IMD.nc  :  358 1633 499.65417\n",
      "../MUM200829IMD/MUM200829115427-IMD.nc.1  :  358 1633 499.65417\n",
      "../MUM200829IMD/MUM200829123427-IMD.nc  :  358 1633 499.65417\n",
      "../MUM200829IMD/MUM200829123427-IMD.nc.1  :  358 1633 499.65417\n",
      "../MUM200829IMD/MUM200829130428-IMD.nc  :  357 1633 499.65417\n",
      "../MUM200829IMD/MUM200829130428-IMD.nc.1  :  357 1633 499.65417\n",
      "../MUM200829IMD/MUM200829144429-IMD.nc  :  358 1633 499.65417\n",
      "../MUM200829IMD/MUM200829144429-IMD.nc.1  :  357 1633 499.65417\n",
      "../MUM200829IMD/MUM200829163431-IMD.nc  :  360 1633 499.65417\n",
      "../MUM200829IMD/MUM200829163431-IMD.nc.1  :  355 1633 499.65417\n",
      "../MUM200829IMD/MUM200829170430-IMD.nc  :  359 1633 499.65417\n",
      "../MUM200829IMD/MUM200829170430-IMD.nc.1  :  354 1633 499.65417\n",
      "../MUM200829IMD/MUM200829171431-IMD.nc  :  356 1633 499.65417\n",
      "../MUM200829IMD/MUM200829171431-IMD.nc.1  :  355 1633 499.65417\n",
      "../MUM200829IMD/MUM200829172431-IMD.nc  :  358 1633 499.65417\n",
      "../MUM200829IMD/MUM200829172431-IMD.nc.1  :  356 1633 499.65417\n",
      "../MUM200829IMD/MUM200829173431-IMD.nc  :  358 1633 499.65417\n",
      "../MUM200829IMD/MUM200829173431-IMD.nc.1  :  357 1633 499.65417\n",
      "../MUM200829IMD/MUM200829182427-IMD.nc  :  358 1633 499.65417\n",
      "../MUM200829IMD/MUM200829182427-IMD.nc.1  :  358 1633 499.65417\n",
      "../MUM200829IMD/MUM200829190427-IMD.nc  :  360 1633 499.65417\n",
      "../MUM200829IMD/MUM200829190427-IMD.nc.1  :  359 1633 499.65417\n",
      "../MUM200829IMD/MUM200829193428-IMD.nc  :  358 1633 499.65417\n",
      "../MUM200829IMD/MUM200829193428-IMD.nc.1  :  358 1633 499.65417\n",
      "../MUM200829IMD/MUM200829194428-IMD.nc  :  357 1633 499.65417\n",
      "../MUM200829IMD/MUM200829194428-IMD.nc.1  :  357 1633 499.65417\n",
      "../MUM200829IMD/MUM200829195427-IMD.nc  :  356 1633 499.65417\n",
      "../MUM200829IMD/MUM200829195427-IMD.nc.1  :  358 1633 499.65417\n",
      "../MUM200829IMD/MUM200829202427-IMD.nc  :  356 1633 499.65417\n",
      "../MUM200829IMD/MUM200829202427-IMD.nc.1  :  354 1633 499.65417\n",
      "../MUM200829IMD/MUM200829205426-IMD.nc  :  357 1633 499.65417\n",
      "../MUM200829IMD/MUM200829205426-IMD.nc.1  :  357 1633 499.65417\n",
      "../MUM200829IMD/MUM200829213431-IMD.nc  :  358 1633 499.65417\n",
      "../MUM200829IMD/MUM200829213431-IMD.nc.1  :  356 1633 499.65417\n",
      "../MUM200829IMD/MUM200829214431-IMD.nc  :  355 1633 499.65417\n",
      "../MUM200829IMD/MUM200829214431-IMD.nc.1  :  356 1633 499.65417\n",
      "../MUM200829IMD/MUM200829215431-IMD.nc  :  357 1633 499.65417\n",
      "../MUM200829IMD/MUM200829215431-IMD.nc.1  :  356 1633 499.65417\n",
      "../MUM200829IMD/MUM200829223430-IMD.nc  :  357 1633 499.65417\n",
      "../MUM200829IMD/MUM200829223430-IMD.nc.1  :  358 1633 499.65417\n",
      "../MUM200829IMD/MUM200829232428-IMD.nc  :  358 1633 499.65417\n",
      "../MUM200829IMD/MUM200829232428-IMD.nc.1  :  357 1633 499.65417\n",
      "../MUM200829IMD/MUM200829233428-IMD.nc  :  357 1633 499.65417\n",
      "../MUM200829IMD/MUM200829233428-IMD.nc.1  :  356 1633 499.65417\n"
     ]
    }
   ],
   "source": [
    "file500 = []\n",
    "for file in files:\n",
    "    ds = xr.open_dataset(file)\n",
    "    if ds.unambigRange > 300:\n",
    "        print(file, \" : \", len(ds.radial.values),len(ds.bin.values),ds.unambigRange.values)\n",
    "        file500.append(file)"
   ]
  },
  {
   "cell_type": "code",
   "execution_count": 32,
   "id": "705789bf",
   "metadata": {},
   "outputs": [
    {
     "data": {
      "text/plain": [
       "'/Users/rizvi/Downloads/akki'"
      ]
     },
     "execution_count": 32,
     "metadata": {},
     "output_type": "execute_result"
    }
   ],
   "source": [
    "pwd"
   ]
  },
  {
   "cell_type": "code",
   "execution_count": 39,
   "id": "0c68c74f",
   "metadata": {},
   "outputs": [],
   "source": [
    "import os\n",
    "import shutil"
   ]
  },
  {
   "cell_type": "code",
   "execution_count": 34,
   "id": "83475f8b",
   "metadata": {},
   "outputs": [],
   "source": [
    "os.mkdir('/Users/rizvi/Downloads/IMD500')"
   ]
  },
  {
   "cell_type": "code",
   "execution_count": 63,
   "id": "ccbbf2e4",
   "metadata": {
    "scrolled": true
   },
   "outputs": [],
   "source": [
    "fmv = []\n",
    "for file in file500:\n",
    "#     print(file.split(\"/\")[-1])\n",
    "    fmv.append(file.split(\"/\")[-1])"
   ]
  },
  {
   "cell_type": "code",
   "execution_count": 64,
   "id": "2e3997e9",
   "metadata": {
    "scrolled": true
   },
   "outputs": [
    {
     "data": {
      "text/plain": [
       "['MUM200829003956-IMD.nc',\n",
       " 'MUM200829003956-IMD.nc.1',\n",
       " 'MUM200829004956-IMD.nc',\n",
       " 'MUM200829004956-IMD.nc.1',\n",
       " 'MUM200829005956-IMD.nc',\n",
       " 'MUM200829005956-IMD.nc.1',\n",
       " 'MUM200829010956-IMD.nc',\n",
       " 'MUM200829010956-IMD.nc.1',\n",
       " 'MUM200829013955-IMD.nc',\n",
       " 'MUM200829013955-IMD.nc.1',\n",
       " 'MUM200829014956-IMD.nc',\n",
       " 'MUM200829014956-IMD.nc.1',\n",
       " 'MUM200829015957-IMD.nc',\n",
       " 'MUM200829015957-IMD.nc.1',\n",
       " 'MUM200829025959-IMD.nc',\n",
       " 'MUM200829025959-IMD.nc.1',\n",
       " 'MUM200829032959-IMD.nc',\n",
       " 'MUM200829032959-IMD.nc.1',\n",
       " 'MUM200829034959-IMD.nc',\n",
       " 'MUM200829034959-IMD.nc.1',\n",
       " 'MUM200829043959-IMD.nc',\n",
       " 'MUM200829043959-IMD.nc.1',\n",
       " 'MUM200829070957-IMD.nc',\n",
       " 'MUM200829070957-IMD.nc.1',\n",
       " 'MUM200829074954-IMD.nc',\n",
       " 'MUM200829074954-IMD.nc.1',\n",
       " 'MUM200829075957-IMD.nc',\n",
       " 'MUM200829075957-IMD.nc.1',\n",
       " 'MUM200829092957-IMD.nc',\n",
       " 'MUM200829092957-IMD.nc.1',\n",
       " 'MUM200829101957-IMD.nc',\n",
       " 'MUM200829101957-IMD.nc.1',\n",
       " 'MUM200829115427-IMD.nc',\n",
       " 'MUM200829115427-IMD.nc.1',\n",
       " 'MUM200829123427-IMD.nc',\n",
       " 'MUM200829123427-IMD.nc.1',\n",
       " 'MUM200829130428-IMD.nc',\n",
       " 'MUM200829130428-IMD.nc.1',\n",
       " 'MUM200829144429-IMD.nc',\n",
       " 'MUM200829144429-IMD.nc.1',\n",
       " 'MUM200829163431-IMD.nc',\n",
       " 'MUM200829163431-IMD.nc.1',\n",
       " 'MUM200829170430-IMD.nc',\n",
       " 'MUM200829170430-IMD.nc.1',\n",
       " 'MUM200829171431-IMD.nc',\n",
       " 'MUM200829171431-IMD.nc.1',\n",
       " 'MUM200829172431-IMD.nc',\n",
       " 'MUM200829172431-IMD.nc.1',\n",
       " 'MUM200829173431-IMD.nc',\n",
       " 'MUM200829173431-IMD.nc.1',\n",
       " 'MUM200829182427-IMD.nc',\n",
       " 'MUM200829182427-IMD.nc.1',\n",
       " 'MUM200829190427-IMD.nc',\n",
       " 'MUM200829190427-IMD.nc.1',\n",
       " 'MUM200829193428-IMD.nc',\n",
       " 'MUM200829193428-IMD.nc.1',\n",
       " 'MUM200829194428-IMD.nc',\n",
       " 'MUM200829194428-IMD.nc.1',\n",
       " 'MUM200829195427-IMD.nc',\n",
       " 'MUM200829195427-IMD.nc.1',\n",
       " 'MUM200829202427-IMD.nc',\n",
       " 'MUM200829202427-IMD.nc.1',\n",
       " 'MUM200829205426-IMD.nc',\n",
       " 'MUM200829205426-IMD.nc.1',\n",
       " 'MUM200829213431-IMD.nc',\n",
       " 'MUM200829213431-IMD.nc.1',\n",
       " 'MUM200829214431-IMD.nc',\n",
       " 'MUM200829214431-IMD.nc.1',\n",
       " 'MUM200829215431-IMD.nc',\n",
       " 'MUM200829215431-IMD.nc.1',\n",
       " 'MUM200829223430-IMD.nc',\n",
       " 'MUM200829223430-IMD.nc.1',\n",
       " 'MUM200829232428-IMD.nc',\n",
       " 'MUM200829232428-IMD.nc.1',\n",
       " 'MUM200829233428-IMD.nc',\n",
       " 'MUM200829233428-IMD.nc.1']"
      ]
     },
     "execution_count": 64,
     "metadata": {},
     "output_type": "execute_result"
    }
   ],
   "source": [
    "fmv"
   ]
  },
  {
   "cell_type": "code",
   "execution_count": 65,
   "id": "3c07a3c7",
   "metadata": {
    "scrolled": true
   },
   "outputs": [
    {
     "name": "stdout",
     "output_type": "stream",
     "text": [
      "Moved: MUM200829003956-IMD.nc\n",
      "Moved: MUM200829003956-IMD.nc.1\n",
      "Moved: MUM200829004956-IMD.nc\n",
      "Moved: MUM200829004956-IMD.nc.1\n",
      "Moved: MUM200829005956-IMD.nc\n",
      "Moved: MUM200829005956-IMD.nc.1\n",
      "Moved: MUM200829010956-IMD.nc\n",
      "Moved: MUM200829010956-IMD.nc.1\n",
      "Moved: MUM200829013955-IMD.nc\n",
      "Moved: MUM200829013955-IMD.nc.1\n",
      "Moved: MUM200829014956-IMD.nc\n",
      "Moved: MUM200829014956-IMD.nc.1\n",
      "Moved: MUM200829015957-IMD.nc\n",
      "Moved: MUM200829015957-IMD.nc.1\n",
      "Moved: MUM200829025959-IMD.nc\n",
      "Moved: MUM200829025959-IMD.nc.1\n",
      "Moved: MUM200829032959-IMD.nc\n",
      "Moved: MUM200829032959-IMD.nc.1\n",
      "Moved: MUM200829034959-IMD.nc\n",
      "Moved: MUM200829034959-IMD.nc.1\n",
      "Moved: MUM200829043959-IMD.nc\n",
      "Moved: MUM200829043959-IMD.nc.1\n",
      "Moved: MUM200829070957-IMD.nc\n",
      "Moved: MUM200829070957-IMD.nc.1\n",
      "Moved: MUM200829074954-IMD.nc\n",
      "Moved: MUM200829074954-IMD.nc.1\n",
      "Moved: MUM200829075957-IMD.nc\n",
      "Moved: MUM200829075957-IMD.nc.1\n",
      "Moved: MUM200829092957-IMD.nc\n",
      "Moved: MUM200829092957-IMD.nc.1\n",
      "Moved: MUM200829101957-IMD.nc\n",
      "Moved: MUM200829101957-IMD.nc.1\n",
      "Moved: MUM200829115427-IMD.nc\n",
      "Moved: MUM200829115427-IMD.nc.1\n",
      "Moved: MUM200829123427-IMD.nc\n",
      "Moved: MUM200829123427-IMD.nc.1\n",
      "Moved: MUM200829130428-IMD.nc\n",
      "Moved: MUM200829130428-IMD.nc.1\n",
      "Moved: MUM200829144429-IMD.nc\n",
      "Moved: MUM200829144429-IMD.nc.1\n",
      "Moved: MUM200829163431-IMD.nc\n",
      "Moved: MUM200829163431-IMD.nc.1\n",
      "Moved: MUM200829170430-IMD.nc\n",
      "Moved: MUM200829170430-IMD.nc.1\n",
      "Moved: MUM200829171431-IMD.nc\n",
      "Moved: MUM200829171431-IMD.nc.1\n",
      "Moved: MUM200829172431-IMD.nc\n",
      "Moved: MUM200829172431-IMD.nc.1\n",
      "Moved: MUM200829173431-IMD.nc\n",
      "Moved: MUM200829173431-IMD.nc.1\n",
      "Moved: MUM200829182427-IMD.nc\n",
      "Moved: MUM200829182427-IMD.nc.1\n",
      "Moved: MUM200829190427-IMD.nc\n",
      "Moved: MUM200829190427-IMD.nc.1\n",
      "Moved: MUM200829193428-IMD.nc\n",
      "Moved: MUM200829193428-IMD.nc.1\n",
      "Moved: MUM200829194428-IMD.nc\n",
      "Moved: MUM200829194428-IMD.nc.1\n",
      "Moved: MUM200829195427-IMD.nc\n",
      "Moved: MUM200829195427-IMD.nc.1\n",
      "Moved: MUM200829202427-IMD.nc\n",
      "Moved: MUM200829202427-IMD.nc.1\n",
      "Moved: MUM200829205426-IMD.nc\n",
      "Moved: MUM200829205426-IMD.nc.1\n",
      "Moved: MUM200829213431-IMD.nc\n",
      "Moved: MUM200829213431-IMD.nc.1\n",
      "Moved: MUM200829214431-IMD.nc\n",
      "Moved: MUM200829214431-IMD.nc.1\n",
      "Moved: MUM200829215431-IMD.nc\n",
      "Moved: MUM200829215431-IMD.nc.1\n",
      "Moved: MUM200829223430-IMD.nc\n",
      "Moved: MUM200829223430-IMD.nc.1\n",
      "Moved: MUM200829232428-IMD.nc\n",
      "Moved: MUM200829232428-IMD.nc.1\n",
      "Moved: MUM200829233428-IMD.nc\n",
      "Moved: MUM200829233428-IMD.nc.1\n"
     ]
    }
   ],
   "source": [
    "import shutil\n",
    "\n",
    "source_folder = r\"../MUM200829IMD/\"\n",
    "destination_folder = r\"../IMD500/\"\n",
    "files_to_move = fmv\n",
    "\n",
    "# iterate files\n",
    "for file in files_to_move:\n",
    "    # construct full file path\n",
    "    source = source_folder + file\n",
    "    destination = destination_folder + file\n",
    "    # move file\n",
    "    shutil.move(source, destination)\n",
    "    print('Moved:', file)"
   ]
  },
  {
   "cell_type": "code",
   "execution_count": null,
   "id": "db82c0e8",
   "metadata": {},
   "outputs": [],
   "source": []
  },
  {
   "cell_type": "markdown",
   "id": "d0e5c8f3",
   "metadata": {},
   "source": [
    "### Now we have only short range ppis in the \"MUM200829IMD\" directory and we will convert these files to cfradial files by using pyscancf"
   ]
  },
  {
   "cell_type": "code",
   "execution_count": 66,
   "id": "79ac33f8",
   "metadata": {},
   "outputs": [],
   "source": [
    "import pyscancf.pyscancf as pcf"
   ]
  },
  {
   "cell_type": "code",
   "execution_count": 67,
   "id": "235e54ee",
   "metadata": {
    "scrolled": true
   },
   "outputs": [
    {
     "name": "stdout",
     "output_type": "stream",
     "text": [
      "Number of files:  950\n",
      "Total number of files will be created:  95\n",
      "Merging all scans in one file\n",
      "Data merging done \n",
      "Total Time Elapsed:  0:57:25.019374\n"
     ]
    }
   ],
   "source": [
    "pcf.cfrad(\"../MUM200829IMD/\",output_dir='../akki/',)"
   ]
  },
  {
   "cell_type": "markdown",
   "id": "c42addff",
   "metadata": {},
   "source": [
    "### Now that cfradial files are being created, we shall convert those files further to gridded datasets"
   ]
  },
  {
   "cell_type": "code",
   "execution_count": 68,
   "id": "c832eac1",
   "metadata": {},
   "outputs": [],
   "source": [
    "import pyart"
   ]
  },
  {
   "cell_type": "code",
   "execution_count": 71,
   "id": "c9114dda",
   "metadata": {},
   "outputs": [],
   "source": [
    "cf_files = sorted(glob.glob(\"pol*nc\")) # loading cfradial data"
   ]
  },
  {
   "cell_type": "code",
   "execution_count": 183,
   "id": "cc550395",
   "metadata": {},
   "outputs": [],
   "source": [
    " # creating directory for gridded files, which we are going to create by converting cfradial or polar data\n",
    "os.mkdir(\"/Users/rizvi/Downloads/outgrid\")"
   ]
  },
  {
   "cell_type": "code",
   "execution_count": 184,
   "id": "5383adca",
   "metadata": {},
   "outputs": [],
   "source": [
    "output_grid_folder = \"/Users/rizvi/Downloads/outgrid/\""
   ]
  },
  {
   "cell_type": "code",
   "execution_count": 205,
   "id": "b97cb2f5",
   "metadata": {},
   "outputs": [],
   "source": [
    "for file in cf_files[0:10]:\n",
    "    radar = pyart.io.read_cfradial(file)\n",
    "    grid = pyart.map.grid_from_radars(radar,(10,400,400),\n",
    "                   ((0.,5000.),(-248000.,248000.),(-248000.,248000.)), \n",
    "                                   weighting_function='Barnes2',\n",
    "                                  fields=['REF'],)\n",
    "    pyart.io.write_grid(output_grid_folder+\"grid_\"+file.split(\"_\")[-1],grid=grid)"
   ]
  },
  {
   "cell_type": "code",
   "execution_count": null,
   "id": "102958ee",
   "metadata": {},
   "outputs": [],
   "source": []
  },
  {
   "cell_type": "code",
   "execution_count": null,
   "id": "fac808bd",
   "metadata": {},
   "outputs": [],
   "source": []
  },
  {
   "cell_type": "markdown",
   "id": "e81333cf",
   "metadata": {},
   "source": [
    "### test output grid files"
   ]
  },
  {
   "cell_type": "code",
   "execution_count": 206,
   "id": "b0c02ebb",
   "metadata": {},
   "outputs": [],
   "source": [
    "rad_ds = xr.open_mfdataset(output_grid_folder+\"/*\")"
   ]
  },
  {
   "cell_type": "code",
   "execution_count": 207,
   "id": "235e9c3f",
   "metadata": {},
   "outputs": [
    {
     "data": {
      "text/plain": [
       "<matplotlib.collections.QuadMesh at 0x154a29910>"
      ]
     },
     "execution_count": 207,
     "metadata": {},
     "output_type": "execute_result"
    },
    {
     "data": {
      "image/png": "[encoded data removed]",
      "text/plain": [
       "<Figure size 432x288 with 2 Axes>"
      ]
     },
     "metadata": {
      "needs_background": "light"
     },
     "output_type": "display_data"
    }
   ],
   "source": [
    "rad_ds['REF'].where(rad_ds.REF<100).mean(\"time\").isel(z=2).plot()"
   ]
  },
  {
   "cell_type": "code",
   "execution_count": 211,
   "id": "09b626fe",
   "metadata": {},
   "outputs": [
    {
     "data": {
      "text/plain": [
       "[<matplotlib.lines.Line2D at 0x154c77d90>]"
      ]
     },
     "execution_count": 211,
     "metadata": {},
     "output_type": "execute_result"
    },
    {
     "data": {
      "image/png": "[encoded data removed]",
      "text/plain": [
       "<Figure size 432x288 with 1 Axes>"
      ]
     },
     "metadata": {
      "needs_background": "light"
     },
     "output_type": "display_data"
    }
   ],
   "source": [
    "rad_ds['REF'].where(rad_ds.REF<100).mean([\"x\",\"y\"]).isel(z=2).plot()"
   ]
  },
  {
   "cell_type": "code",
   "execution_count": null,
   "id": "3d3a17b1",
   "metadata": {},
   "outputs": [],
   "source": []
  }
 ],
 "metadata": {
  "kernelspec": {
   "display_name": "Python 3 (ipykernel)",
   "language": "python",
   "name": "python3"
  },
  "language_info": {
   "codemirror_mode": {
    "name": "ipython",
    "version": 3
   },
   "file_extension": ".py",
   "mimetype": "text/x-python",
   "name": "python",
   "nbconvert_exporter": "python",
   "pygments_lexer": "ipython3",
   "version": "3.9.7"
  }
 },
 "nbformat": 4,
 "nbformat_minor": 5
}
